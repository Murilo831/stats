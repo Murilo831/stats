{
 "cells": [
  {
   "cell_type": "code",
   "execution_count": 1,
   "id": "compatible-hollow",
   "metadata": {},
   "outputs": [
    {
     "name": "stdout",
     "output_type": "stream",
     "text": [
      "importing Jupyter notebook from linear_algebra.ipynb\n",
      "[[1, 0, 0, 0, 0], [0, 1, 0, 0, 0], [0, 0, 1, 0, 0], [0, 0, 0, 1, 0], [0, 0, 0, 0, 1]]\n"
     ]
    }
   ],
   "source": [
    "'''Antes de importar usar esse cod -> !pip install import-ipynb'''\n",
    "\n",
    "import import_ipynb # importar ele aqui\n",
    "from collections import Counter\n",
    "from __future__ import division\n",
    "import matplotlib.pyplot as plt\n",
    "from linear_algebra import sum_of_squares, dot\n",
    "import math"
   ]
  },
  {
   "cell_type": "code",
   "execution_count": 2,
   "id": "flush-ribbon",
   "metadata": {},
   "outputs": [],
   "source": [
    "num_friends = [100,49,41,40,25,21,21,19,19,18,18,16,15,15,15,15,14,14,13,13,13,13,12,12,11,10,10,10,10,10,10,10,10,10,10,10,10,10,10,10,9,9,9,9,9,9,9,9,9,9,9,9,9,9,9,9,9,9,8,8,8,8,8,8,8,8,8,8,8,8,8,7,7,7,7,7,7,7,7,7,7,7,7,7,7,7,6,6,6,6,6,6,6,6,6,6,6,6,6,6,6,6,6,6,6,6,6,6,5,5,5,5,5,5,5,5,5,5,5,5,5,5,5,5,5,4,4,4,4,4,4,4,4,4,4,4,4,4,4,4,4,4,4,4,4,3,3,3,3,3,3,3,3,3,3,3,3,3,3,3,3,3,3,3,3,2,2,2,2,2,2,2,2,2,2,2,2,2,2,2,2,2,1,1,1,1,1,1,1,1,1,1,1,1,1,1,1,1,1,1,1,1,1,1]"
   ]
  },
  {
   "cell_type": "code",
   "execution_count": 3,
   "id": "parental-black",
   "metadata": {},
   "outputs": [
    {
     "data": {
      "image/png": "[encoded data removed]",
      "text/plain": [
       "<Figure size 432x288 with 1 Axes>"
      ]
     },
     "metadata": {
      "needs_background": "light"
     },
     "output_type": "display_data"
    }
   ],
   "source": [
    "def make_friends_counts_histogram():\n",
    "    \n",
    "    friends_counts = Counter(num_friends)\n",
    "    xs = range(101)\n",
    "    ys = [friends_counts[x] for x in xs]\n",
    "    plt.bar(xs, ys)\n",
    "    plt.axis([0,101,0,25]) # x de 0 a 101 e y de 0 a 25\n",
    "    plt.title('Histogram of Friends Counts')\n",
    "    plt.xlabel('# of friends')\n",
    "    plt.ylabel('# of people')\n",
    "    plt.show()\n",
    "    \n",
    "make_friends_counts_histogram()"
   ]
  },
  {
   "cell_type": "code",
   "execution_count": 4,
   "id": "northern-roulette",
   "metadata": {},
   "outputs": [],
   "source": [
    "num_points = len(num_friends) # 204\n",
    "#print(num_points)"
   ]
  },
  {
   "cell_type": "code",
   "execution_count": 5,
   "id": "cutting-university",
   "metadata": {},
   "outputs": [],
   "source": [
    "larget_value = max(num_friends) # 100 -> maior valor\n",
    "smallest_value = min(num_friends) # 1 -> menor valor\n",
    "#print(larget_value, smallest_value)"
   ]
  },
  {
   "cell_type": "code",
   "execution_count": 6,
   "id": "lesbian-monitoring",
   "metadata": {},
   "outputs": [],
   "source": [
    "sorted_values = sorted(num_friends) # Sorted deixa do menor pro maior\n",
    "smallest_value = sorted_values[0]       # 1\n",
    "second_smallest_value = sorted_values[1]# 1\n",
    "second_larget_value = sorted_values[-2] # 49\n",
    "#print(smallest_value, second_smallest_value, second_larget_value)"
   ]
  },
  {
   "cell_type": "code",
   "execution_count": 16,
   "id": "south-mining",
   "metadata": {},
   "outputs": [
    {
     "data": {
      "text/plain": [
       "'TENDENCIAS CENTRAIS'"
      ]
     },
     "execution_count": 16,
     "metadata": {},
     "output_type": "execute_result"
    }
   ],
   "source": [
    "\"\"\"TENDENCIAS CENTRAIS\"\"\""
   ]
  },
  {
   "cell_type": "code",
   "execution_count": 7,
   "id": "enabling-recycling",
   "metadata": {},
   "outputs": [
    {
     "name": "stdout",
     "output_type": "stream",
     "text": [
      "7.333333333333333\n"
     ]
    }
   ],
   "source": [
    "# this isn't right if you don't from __future__ import division\n",
    "def mean(x):\n",
    "    return sum(x) / len(x)\n",
    "\n",
    "#print(mean(num_friends)) # 7.33333333333333333"
   ]
  },
  {
   "cell_type": "code",
   "execution_count": 8,
   "id": "fuzzy-latter",
   "metadata": {},
   "outputs": [
    {
     "name": "stdout",
     "output_type": "stream",
     "text": [
      "6.0\n"
     ]
    }
   ],
   "source": [
    "def median(v):\n",
    "    '''encontra o valor mais ao meio de v'''\n",
    "    n = len(v)\n",
    "    sorted_v = sorted(v)\n",
    "    midpoint = n // 2 # // -> floor division -> divisão exata sem virgula\n",
    "    \n",
    "    if n % 2 == 1:\n",
    "        # se for impar, retorna o valor do meio\n",
    "        return sorted_v[midpoint] # o ultimo valor é o valor do meio, porém ele o inverte deixando na frente\n",
    "    else:\n",
    "        # se for par, retorna a média dos valores do meio\n",
    "        lo = midpoint - 1\n",
    "        hi = midpoint\n",
    "        return (sorted_v[lo] + sorted_v[hi]) / 2\n",
    "    \n",
    "#print(median(num_friends)) #6.0"
   ]
  },
  {
   "cell_type": "code",
   "execution_count": 12,
   "id": "seasonal-change",
   "metadata": {},
   "outputs": [],
   "source": [
    "def quantile(x,p):\n",
    "    '''retorna o valor percentual p-ésimo em x'''\n",
    "    \n",
    "    p_index = int(p * len(x))\n",
    "    return sorted(x)[p_index]\n",
    "\n",
    "#print(quantile(num_friends, 0.10))# 1\n",
    "#print(quantile(num_friends, 0.25))# 3\n",
    "#print(quantile(num_friends, 0.75))# 9\n",
    "#print(quantile(num_friends, 0.90))# 13"
   ]
  },
  {
   "cell_type": "code",
   "execution_count": 15,
   "id": "conceptual-vaccine",
   "metadata": {},
   "outputs": [],
   "source": [
    "def mode(x):\n",
    "    '''Retorna uma lista, pode haver mais de uma moda'''\n",
    "    \n",
    "    counts = Counter(x)\n",
    "    max_count = max(counts.values())\n",
    "    return [x_i for x_i, count in counts.items()\n",
    "           if count == max_count]\n",
    "\n",
    "\n",
    "#print(mode(num_friends)) # 6 and 1"
   ]
  },
  {
   "cell_type": "code",
   "execution_count": 17,
   "id": "ecological-coordinate",
   "metadata": {},
   "outputs": [
    {
     "data": {
      "text/plain": [
       "'Dispersão'"
      ]
     },
     "execution_count": 17,
     "metadata": {},
     "output_type": "execute_result"
    }
   ],
   "source": [
    "\"\"\"Dispersão\"\"\""
   ]
  },
  {
   "cell_type": "code",
   "execution_count": 18,
   "id": "applicable-training",
   "metadata": {},
   "outputs": [
    {
     "name": "stdout",
     "output_type": "stream",
     "text": [
      "99\n"
     ]
    }
   ],
   "source": [
    "# \"Amplitude\" já possui significado em Python, então usaremos um nome diferente\n",
    "def data_range(x):\n",
    "    return max(x) - min(x)\n",
    "\n",
    "#print(data_range(num_friends)) # 99"
   ]
  },
  {
   "cell_type": "code",
   "execution_count": 19,
   "id": "expanded-quebec",
   "metadata": {},
   "outputs": [
    {
     "name": "stdout",
     "output_type": "stream",
     "text": [
      "81.54351395730716\n"
     ]
    }
   ],
   "source": [
    "def de_mean(x):\n",
    "    '''Desloca x ao subtrair sua média (então o resultado tem a media 0)'''\n",
    "    \n",
    "    x_bar = mean(x)\n",
    "    return [x_i - x_bar for x_i in x]\n",
    "\n",
    "def variance(x):\n",
    "    '''presume que x tema ao menos dois elementos'''\n",
    "    \n",
    "    n = len(x)\n",
    "    deviations = de_mean(x)\n",
    "    return sum_of_squares(deviations) / (n - 1)\n",
    "\n",
    "#print(variance(num_friends)) # 81.54"
   ]
  },
  {
   "cell_type": "code",
   "execution_count": 20,
   "id": "described-platform",
   "metadata": {},
   "outputs": [
    {
     "name": "stdout",
     "output_type": "stream",
     "text": [
      "9.03014473623248\n"
     ]
    }
   ],
   "source": [
    "def standard_deviation(x):\n",
    "    return math.sqrt(variance(x))\n",
    "\n",
    "#print(standard_deviation(num_friends)) # 9.03"
   ]
  },
  {
   "cell_type": "code",
   "execution_count": 21,
   "id": "amino-volunteer",
   "metadata": {},
   "outputs": [
    {
     "name": "stdout",
     "output_type": "stream",
     "text": [
      "6\n"
     ]
    }
   ],
   "source": [
    "'''Computa a diferença entre os percentos'''\n",
    "def interquartile_range(x):\n",
    "    return quantile(x, 0.75) - quantile(x, 0.25)\n",
    "\n",
    "#print(interquartile_range(num_friends)) #6"
   ]
  },
  {
   "cell_type": "code",
   "execution_count": 22,
   "id": "handy-invite",
   "metadata": {},
   "outputs": [
    {
     "data": {
      "text/plain": [
       "'CORRELAÇÃO'"
      ]
     },
     "execution_count": 22,
     "metadata": {},
     "output_type": "execute_result"
    }
   ],
   "source": [
    "\"\"\"CORRELAÇÃO\"\"\""
   ]
  },
  {
   "cell_type": "code",
   "execution_count": 23,
   "id": "spare-cause",
   "metadata": {},
   "outputs": [],
   "source": [
    "daily_minutes = [1,68.77,51.25,52.08,38.36,44.54,57.13,51.4,41.42,31.22,34.76,54.01,38.79,47.59,49.1,27.66,41.03,36.73,48.65,28.12,46.62,35.57,32.98,35,26.07,23.77,39.73,40.57,31.65,31.21,36.32,20.45,21.93,26.02,27.34,23.49,46.94,30.5,33.8,24.23,21.4,27.94,32.24,40.57,25.07,19.42,22.39,18.42,46.96,23.72,26.41,26.97,36.76,40.32,35.02,29.47,30.2,31,38.11,38.18,36.31,21.03,30.86,36.07,28.66,29.08,37.28,15.28,24.17,22.31,30.17,25.53,19.85,35.37,44.6,17.23,13.47,26.33,35.02,32.09,24.81,19.33,28.77,24.26,31.98,25.73,24.86,16.28,34.51,15.23,39.72,40.8,26.06,35.76,34.76,16.13,44.04,18.03,19.65,32.62,35.59,39.43,14.18,35.24,40.13,41.82,35.45,36.07,43.67,24.61,20.9,21.9,18.79,27.61,27.21,26.61,29.77,20.59,27.53,13.82,33.2,25,33.1,36.65,18.63,14.87,22.2,36.81,25.53,24.62,26.25,18.21,28.08,19.42,29.79,32.8,35.99,28.32,27.79,35.88,29.06,36.28,14.1,36.63,37.49,26.9,18.58,38.48,24.48,18.95,33.55,14.24,29.04,32.51,25.63,22.22,19,32.73,15.16,13.9,27.2,32.01,29.27,33,13.74,20.42,27.32,18.23,35.35,28.48,9.08,24.62,20.12,35.26,19.92,31.02,16.49,12.16,30.7,31.22,34.65,13.13,27.51,33.2,31.57,14.1,33.42,17.44,10.12,24.42,9.82,23.39,30.93,15.03,21.67,31.09,33.29,22.61,26.89,23.48,8.38,27.81,32.35,23.84]"
   ]
  },
  {
   "cell_type": "code",
   "execution_count": 24,
   "id": "cleared-gamma",
   "metadata": {},
   "outputs": [
    {
     "name": "stdout",
     "output_type": "stream",
     "text": [
      "22.425435139573064\n"
     ]
    }
   ],
   "source": [
    "def covariance(x,y):\n",
    "    n = len(x)\n",
    "    return dot(de_mean(x), de_mean(y)) / (n - 1)\n",
    "\n",
    "#print(covariance(num_friends, daily_minutes))# 22.43"
   ]
  },
  {
   "cell_type": "code",
   "execution_count": 25,
   "id": "played-circumstances",
   "metadata": {},
   "outputs": [
    {
     "name": "stdout",
     "output_type": "stream",
     "text": [
      "0.24736957366478218\n"
     ]
    }
   ],
   "source": [
    "def correlation(x,y):\n",
    "    stdev_x = standard_deviation(x)\n",
    "    stdev_y = standard_deviation(y)\n",
    "    if stdev_x > 0 and stdev_y > 0:\n",
    "        return covariance(x,y) / stdev_x / stdev_y\n",
    "    else:\n",
    "        return 0 # Se não ouver amplitude, a correlação é zero\n",
    "    \n",
    "#print(correlation(num_friends, daily_minutes)) #0.25"
   ]
  },
  {
   "cell_type": "code",
   "execution_count": 26,
   "id": "greatest-essex",
   "metadata": {},
   "outputs": [],
   "source": [
    "outlier = num_friends.index(100) # indice do valor discrepante"
   ]
  },
  {
   "cell_type": "code",
   "execution_count": 27,
   "id": "legitimate-colors",
   "metadata": {},
   "outputs": [
    {
     "name": "stdout",
     "output_type": "stream",
     "text": [
      "0.5736792115665573\n"
     ]
    }
   ],
   "source": [
    "num_friends_good = [x\n",
    "                   for i, x in enumerate(num_friends)\n",
    "                   if i != outlier]\n",
    "\n",
    "daily_minutes_good = [x\n",
    "                     for i, x in enumerate(daily_minutes)\n",
    "                     if i != outlier]\n",
    "\n",
    "print(correlation(num_friends_good, daily_minutes_good)) # 0.57"
   ]
  },
  {
   "cell_type": "code",
   "execution_count": 29,
   "id": "understanding-community",
   "metadata": {},
   "outputs": [
    {
     "name": "stdout",
     "output_type": "stream",
     "text": [
      "num_points: 204\n",
      "largest value: 100\n",
      "smallest value: 1\n",
      "second_smallest_value: 1\n",
      "second_largest_value: 49\n",
      "mean(num_friends): 7.333333333333333\n",
      "median(num_friends): 6.0\n",
      "quantile(num_friends, 0.10): 1\n",
      "quantile(num_friends, 0.25): 3\n",
      "quantile(num_friends, 0.75): 9\n",
      "quantile(num_friends, 0.90): 13\n",
      "mode(num_friends): [6, 1]\n",
      "data_range(num_friends): 99\n",
      "variance(num_friends): 81.54351395730716\n",
      "standard_deviation(num_friends): 9.03014473623248\n",
      "interquartile_range(num_friends): 6\n",
      "covariance(num_friends, daily_minutes): 22.425435139573064\n",
      "correlation(num_friends, daily_minutes): 0.24736957366478218\n",
      "correlation(num_friends_good, daily_minutes_good): 0.5736792115665573\n"
     ]
    }
   ],
   "source": [
    "if __name__ == \"__main__\":\n",
    "\n",
    "    print(\"num_points:\", len(num_friends))\n",
    "    print(\"largest value:\", max(num_friends))\n",
    "    print(\"smallest value:\", min(num_friends))\n",
    "    print(\"second_smallest_value:\", sorted_values[1])\n",
    "    print(\"second_largest_value:\", sorted_values[-2]  )\n",
    "    print(\"mean(num_friends):\", mean(num_friends))\n",
    "    print(\"median(num_friends):\", median(num_friends))\n",
    "    print(\"quantile(num_friends, 0.10):\", quantile(num_friends, 0.10))\n",
    "    print(\"quantile(num_friends, 0.25):\", quantile(num_friends, 0.25))\n",
    "    print(\"quantile(num_friends, 0.75):\", quantile(num_friends, 0.75))\n",
    "    print(\"quantile(num_friends, 0.90):\", quantile(num_friends, 0.90))\n",
    "    print(\"mode(num_friends):\", mode(num_friends))\n",
    "    print(\"data_range(num_friends):\", data_range(num_friends))\n",
    "    print(\"variance(num_friends):\", variance(num_friends))\n",
    "    print(\"standard_deviation(num_friends):\", standard_deviation(num_friends))\n",
    "    print(\"interquartile_range(num_friends):\", interquartile_range(num_friends))\n",
    "\n",
    "    print(\"covariance(num_friends, daily_minutes):\", covariance(num_friends, daily_minutes))\n",
    "    print(\"correlation(num_friends, daily_minutes):\", correlation(num_friends, daily_minutes))\n",
    "    print(\"correlation(num_friends_good, daily_minutes_good):\", correlation(num_friends_good, daily_minutes_good))"
   ]
  },
  {
   "cell_type": "code",
   "execution_count": null,
   "id": "eligible-making",
   "metadata": {},
   "outputs": [],
   "source": []
  }
 ],
 "metadata": {
  "kernelspec": {
   "display_name": "Python 3",
   "language": "python",
   "name": "python3"
  },
  "language_info": {
   "codemirror_mode": {
    "name": "ipython",
    "version": 3
   },
   "file_extension": ".py",
   "mimetype": "text/x-python",
   "name": "python",
   "nbconvert_exporter": "python",
   "pygments_lexer": "ipython3",
   "version": "3.8.5"
  }
 },
 "nbformat": 4,
 "nbformat_minor": 5
}
