{
 "cells": [
  {
   "cell_type": "code",
   "execution_count": 1,
   "id": "tired-affair",
   "metadata": {},
   "outputs": [],
   "source": [
    "import re, math, random # regexes, math functions, random numbers\n",
    "import matplotlib.pyplot as plt\n",
    "from collections import defaultdict, Counter\n",
    "from functools import partial, reduce"
   ]
  },
  {
   "cell_type": "code",
   "execution_count": 2,
   "id": "sudden-replica",
   "metadata": {},
   "outputs": [],
   "source": [
    "#\n",
    "# Functions for working with vectors\n",
    "#"
   ]
  },
  {
   "cell_type": "code",
   "execution_count": 3,
   "id": "diagnostic-bibliography",
   "metadata": {},
   "outputs": [],
   "source": [
    "def vector_add(v,w):\n",
    "    '''Soma elementos correspondentes'''\n",
    "    return [v_i + w_i\n",
    "           for v_i, w_i in zip(v,w)]"
   ]
  },
  {
   "cell_type": "code",
   "execution_count": 4,
   "id": "vocal-spanish",
   "metadata": {},
   "outputs": [],
   "source": [
    "def vector_subtract(v,w):\n",
    "    '''Seubtrai elementos correspondentes'''\n",
    "    return [v_i - w_i\n",
    "           for v_i, w_i in zip(v,w)]"
   ]
  },
  {
   "cell_type": "code",
   "execution_count": 5,
   "id": "amber-negative",
   "metadata": {},
   "outputs": [],
   "source": [
    "'''Cria um vetor cujo o primeiro elemento seja a soma de todos os primeiros elementos'''\n",
    "def vector_sum(vectors):\n",
    "    return reduce(vector_add, vectors)"
   ]
  },
  {
   "cell_type": "code",
   "execution_count": 6,
   "id": "opposite-stupid",
   "metadata": {},
   "outputs": [],
   "source": [
    "'''Simplesmente faz ele multiplicar cada valor de V por '''\n",
    "def scalar_multiply(c,v):\n",
    "    '''c é um numero, v é um vetor'''\n",
    "    return [c * v_i for v_i in v]"
   ]
  },
  {
   "cell_type": "code",
   "execution_count": 7,
   "id": "ethical-grill",
   "metadata": {},
   "outputs": [],
   "source": [
    "'''Computar a média de uma lista de vetores'''\n",
    "\n",
    "def vector_mean(vectors):\n",
    "    \"\"\"Computar o vetor cujo i-ésimo elemento seja a média dos \n",
    "    i-ésimos elementos dos vetores inclusos\"\"\"\n",
    "    \n",
    "    n = len(vectors)\n",
    "    return scalar_multiply(1/n, vector_sum(vectors))"
   ]
  },
  {
   "cell_type": "code",
   "execution_count": 8,
   "id": "hindu-chapel",
   "metadata": {},
   "outputs": [],
   "source": [
    "'''O produto escalar de dois vetores é a soma de seus\n",
    "produtos componente a componente'''\n",
    "\n",
    "def dot(v,w):\n",
    "    '''v_1 * w_1 + ... + v_n * w_n '''\n",
    "    return sum(v_i * w_i\n",
    "              for v_i, w_i in zip(v,w))"
   ]
  },
  {
   "cell_type": "code",
   "execution_count": 9,
   "id": "seven-variation",
   "metadata": {},
   "outputs": [],
   "source": [
    "'''Soma dos quadrados de um vetor'''\n",
    "\n",
    "def sum_of_squares(v):\n",
    "    '''v_1 * v_1 + ... + v_n *v_n'''\n",
    "    \n",
    "    return dot(v,v)"
   ]
  },
  {
   "cell_type": "code",
   "execution_count": 10,
   "id": "recovered-islam",
   "metadata": {},
   "outputs": [],
   "source": [
    "'''Calcular a magnitude (ou tamanho)'''\n",
    "def magnitude(v):\n",
    "    return math.sqrt(sum_of_squares(v)) # math.sqrt é a função da raiz quadrada"
   ]
  },
  {
   "cell_type": "code",
   "execution_count": 11,
   "id": "coordinate-gabriel",
   "metadata": {},
   "outputs": [],
   "source": [
    "'''Calcular a distancia entre dois vetores'''\n",
    "def squared_distance(v,w):\n",
    "    '''(v_1 * w_1) ** 2 + ... + (v_n * w_n) ** 2'''\n",
    "    \n",
    "    return sum_of_squares(vector_subtract(v,w))\n",
    "\n",
    "def distance(v,w):\n",
    "    return math.sqrt(squared_distance(v,w))"
   ]
  },
  {
   "cell_type": "code",
   "execution_count": 12,
   "id": "ultimate-wyoming",
   "metadata": {},
   "outputs": [],
   "source": [
    "#\n",
    "# functions for working with matrices\n",
    "#"
   ]
  },
  {
   "cell_type": "code",
   "execution_count": 13,
   "id": "abandoned-royal",
   "metadata": {},
   "outputs": [],
   "source": [
    "def shape(A):\n",
    "    num_rows = len(A)\n",
    "    num_cols = len(A[0]) if A else 0\n",
    "    return num_rows, num_cols"
   ]
  },
  {
   "cell_type": "code",
   "execution_count": 14,
   "id": "exotic-finder",
   "metadata": {},
   "outputs": [],
   "source": [
    "def get_row(A, i):\n",
    "    return A[i]          # A[i] já é da linha A[i] é linha i-ésimo\n",
    "\n",
    "def get_column(A, j):\n",
    "    return [A_i[j]       # j-ésimo elemento da linha A_i\n",
    "           for A_i in A] # para cada linha A_i"
   ]
  },
  {
   "cell_type": "code",
   "execution_count": 15,
   "id": "several-confirmation",
   "metadata": {},
   "outputs": [],
   "source": [
    "def make_matrix(num_rows, num_cols, entry_fn):\n",
    "    '''retorna a matriz num_rows X num_cols\n",
    "    cuja entrada (i,j)th é entry_fn(i,j)'''\n",
    "    \n",
    "    return [[entry_fn(i,j)            # dado i, cria uma lista\n",
    "             for j in range(num_cols)]# [entry_fn(i,0), ...]\n",
    "           for i in range(num_rows)]  # cria uma lista para cada i"
   ]
  },
  {
   "cell_type": "code",
   "execution_count": 16,
   "id": "interesting-jacket",
   "metadata": {},
   "outputs": [
    {
     "name": "stdout",
     "output_type": "stream",
     "text": [
      "[[1, 0, 0, 0, 0], [0, 1, 0, 0, 0], [0, 0, 1, 0, 0], [0, 0, 0, 1, 0], [0, 0, 0, 0, 1]]\n"
     ]
    }
   ],
   "source": [
    "def is_diagonal(i, j):\n",
    "    \"\"\"1's na diagonal, 0's nos demais lugares\"\"\"\n",
    "    \n",
    "    return 1 if i == j else 0\n",
    "\n",
    "indentity_matrix = make_matrix(5,5,is_diagonal)\n",
    "print(f'{indentity_matrix}')"
   ]
  },
  {
   "cell_type": "code",
   "execution_count": null,
   "id": "parliamentary-comparative",
   "metadata": {},
   "outputs": [],
   "source": []
  }
 ],
 "metadata": {
  "kernelspec": {
   "display_name": "Python 3",
   "language": "python",
   "name": "python3"
  },
  "language_info": {
   "codemirror_mode": {
    "name": "ipython",
    "version": 3
   },
   "file_extension": ".py",
   "mimetype": "text/x-python",
   "name": "python",
   "nbconvert_exporter": "python",
   "pygments_lexer": "ipython3",
   "version": "3.8.5"
  }
 },
 "nbformat": 4,
 "nbformat_minor": 5
}
